{
  "nbformat": 4,
  "nbformat_minor": 0,
  "metadata": {
    "colab": {
      "provenance": [],
      "include_colab_link": true
    },
    "kernelspec": {
      "name": "python3",
      "display_name": "Python 3"
    },
    "language_info": {
      "name": "python"
    },
    "accelerator": "GPU"
  },
  "cells": [
    {
      "cell_type": "markdown",
      "metadata": {
        "id": "view-in-github",
        "colab_type": "text"
      },
      "source": [
        "<a href=\"https://colab.research.google.com/github/itzchav/TensorFlow-Probabilidad-Condicional/blob/main/Clasificador_de_habitaciones.ipynb\" target=\"_parent\"><img src=\"https://colab.research.google.com/assets/colab-badge.svg\" alt=\"Open In Colab\"/></a>"
      ]
    },
    {
      "cell_type": "markdown",
      "metadata": {
        "id": "iJ18D1mi83oh"
      },
      "source": [
        "**Librerias a utilizar.**"
      ]
    },
    {
      "cell_type": "code",
      "metadata": {
        "id": "h7X-dJ7h8t67"
      },
      "source": [
        "import matplotlib.pyplot as plt\n",
        "import os\n",
        "import re\n",
        "import pandas as pd\n",
        "import numpy as np\n",
        "import shutil\n",
        "import string\n",
        "import tensorflow as tf\n",
        "from tensorflow import keras\n",
        "\n",
        "from tensorflow.keras import layers\n",
        "from tensorflow.keras import losses\n",
        "from tensorflow.keras import preprocessing\n",
        "from tensorflow.keras.layers import TextVectorization"
      ],
      "execution_count": null,
      "outputs": []
    },
    {
      "cell_type": "markdown",
      "metadata": {
        "id": "nrlkmRmF9JFx"
      },
      "source": [
        "**Abriendo drive**"
      ]
    },
    {
      "cell_type": "code",
      "metadata": {
        "id": "YOQkfVSMOHPS",
        "colab": {
          "base_uri": "https://localhost:8080/"
        },
        "outputId": "f5a79df1-40d6-4562-ed49-46b0fb20e469"
      },
      "source": [
        "from google.colab import drive\n",
        "drive.mount('/content/drive')"
      ],
      "execution_count": null,
      "outputs": [
        {
          "output_type": "stream",
          "name": "stdout",
          "text": [
            "Drive already mounted at /content/drive; to attempt to forcibly remount, call drive.mount(\"/content/drive\", force_remount=True).\n"
          ]
        }
      ]
    },
    {
      "cell_type": "markdown",
      "metadata": {
        "id": "Rbf-z8pgCbs2"
      },
      "source": [
        "**Contenido del modelo**"
      ]
    },
    {
      "cell_type": "code",
      "metadata": {
        "id": "sDPfDjq9ODcE",
        "colab": {
          "base_uri": "https://localhost:8080/"
        },
        "outputId": "4621bbbd-0635-4862-de22-69d17cc88556"
      },
      "source": [
        "os.listdir(\"/content/drive/MyDrive/Modelo/Archivos_full\")"
      ],
      "execution_count": null,
      "outputs": [
        {
          "output_type": "execute_result",
          "data": {
            "text/plain": [
              "['bedroom', 'kitchen', 'bathroom']"
            ]
          },
          "metadata": {},
          "execution_count": 3
        }
      ]
    },
    {
      "cell_type": "code",
      "source": [
        "os.listdir(\"/content/drive/MyDrive/Modelo/Archivos_full/bathroom\")"
      ],
      "metadata": {
        "id": "lGQS8n4RrY_7",
        "colab": {
          "base_uri": "https://localhost:8080/"
        },
        "outputId": "1864a5c5-0c58-4600-a8d1-e7ca0cce42ef"
      },
      "execution_count": null,
      "outputs": [
        {
          "output_type": "execute_result",
          "data": {
            "text/plain": [
              "['alma_bathroom1.txt',\n",
              " 'anto_bathroom1.txt',\n",
              " 'anto_bathroom2.txt',\n",
              " 'pare_bathroom1.txt',\n",
              " 'pare_bathroom2.txt',\n",
              " 'rx2_bathroom1.txt',\n",
              " 'sarmis_bathroom2_1_s5.txt',\n",
              " 'sarmis_bathroom2_2_s5.txt',\n",
              " 'sarmis_bathroom1_1_s6.txt',\n",
              " 'sarmis_bathroom1_2_s6.txt',\n",
              " 'sarmis_bathroom2_1_s6.txt',\n",
              " 'sarmis_bathroom2_2_s6.txt']"
            ]
          },
          "metadata": {},
          "execution_count": 4
        }
      ]
    },
    {
      "cell_type": "markdown",
      "metadata": {
        "id": "w6tMY8_tD6Ri"
      },
      "source": [
        "**Abriendo la carpeta de entrenamiento**"
      ]
    },
    {
      "cell_type": "markdown",
      "metadata": {
        "id": "g2RyB0eQFYwp"
      },
      "source": [
        "**Ejemplo de archivo txt de baño**"
      ]
    },
    {
      "cell_type": "code",
      "metadata": {
        "colab": {
          "base_uri": "https://localhost:8080/"
        },
        "id": "0Oenwdz9E7H0",
        "outputId": "6ce4c3d7-d5a3-467b-ad70-cb4e63949d66"
      },
      "source": [
        "archivo_ejemplo = os.path.join('/content/drive/MyDrive/Modelo/Archivos_full/bathroom', 'alma_bathroom1.txt')\n",
        "with open(archivo_ejemplo) as archivo:\n",
        "  #print(archivo.read())\n",
        "  print('ok')"
      ],
      "execution_count": null,
      "outputs": [
        {
          "output_type": "stream",
          "name": "stdout",
          "text": [
            "ok\n"
          ]
        }
      ]
    },
    {
      "cell_type": "code",
      "source": [
        "\n",
        "# Ruta del archivo\n",
        "archivo_ejemplo = os.path.join('/content/drive/MyDrive/Modelo/Archivos_full/bathroom', 'alma_bathroom1.txt')\n",
        "\n",
        "# Leer el archivo y cargar su contenido\n",
        "with open(archivo_ejemplo, 'r') as archivo:\n",
        "    lineas = archivo.readlines()\n",
        "\n",
        "# Ver las primeras líneas del archivo\n",
        "print(lineas[:5])  # Muestra las primeras 5 líneas para inspección"
      ],
      "metadata": {
        "colab": {
          "base_uri": "https://localhost:8080/"
        },
        "id": "vii-1F8_vVnT",
        "outputId": "3523509c-dab3-44ed-a4ef-1440264c1532"
      },
      "execution_count": null,
      "outputs": [
        {
          "output_type": "stream",
          "name": "stdout",
          "text": [
            "['window towel paper_roll toilet toilet_brush plant towel bath wall wall floor              \\n', 'towel bath faucet bottle bottle bottle wall wall                 \\n', 'faucet teddy_pumba tooth_brush_holder sink mirror window towel wall floor                \\n', 'window towel paper_roll toilet toilet_brush plant towel bath wall wall floor              \\n', 'towel bath faucet bottle bottle bottle wall wall wall                \\n']\n"
          ]
        }
      ]
    },
    {
      "cell_type": "markdown",
      "metadata": {
        "id": "y-iDIHIuF6WZ"
      },
      "source": [
        "**Eligiendo los archivos de entrenamiento **\n",
        "\n",
        "1.   80% Entrenamiento\n",
        "2.   20% Validación\n",
        "\n"
      ]
    },
    {
      "cell_type": "code",
      "source": [
        "import pandas as pd\n",
        "# Convertir el contenido del archivo en un DataFrame con una columna 'Texto'\n",
        "df = pd.DataFrame(lineas, columns=['Texto'])\n",
        "\n",
        "# Mostrar las primeras filas del DataFrame\n",
        "print(df.head())\n"
      ],
      "metadata": {
        "colab": {
          "base_uri": "https://localhost:8080/"
        },
        "id": "36k2LL3Au4TN",
        "outputId": "d4864c42-6c68-4561-9c78-0469a8c356d0"
      },
      "execution_count": null,
      "outputs": [
        {
          "output_type": "stream",
          "name": "stdout",
          "text": [
            "                                               Texto\n",
            "0  window towel paper_roll toilet toilet_brush pl...\n",
            "1  towel bath faucet bottle bottle bottle wall wa...\n",
            "2  faucet teddy_pumba tooth_brush_holder sink mir...\n",
            "3  window towel paper_roll toilet toilet_brush pl...\n",
            "4  towel bath faucet bottle bottle bottle wall wa...\n"
          ]
        }
      ]
    },
    {
      "cell_type": "code",
      "metadata": {
        "colab": {
          "base_uri": "https://localhost:8080/"
        },
        "id": "iCiHTh7kF682",
        "outputId": "866b4ff1-5026-44ef-fa6e-3d3b6528bfe1"
      },
      "source": [
        "\n",
        "\n",
        "# Ruta del directorio\n",
        "directorio = '/content/drive/MyDrive/Modelo/Archivos_2'\n",
        "\n",
        "# Rutas de las carpetas\n",
        "directorio_kitchen = '/content/drive/MyDrive/Modelo/Archivos_2/kitchen'\n",
        "directorio_bathroom = '/content/drive/MyDrive/Modelo/Archivos_2/bathroom'\n",
        "directorio_bedroom = '/content/drive/MyDrive/Modelo/Archivos_2/bedroom'  # Nueva carpeta para bedroom\n",
        "\n",
        "# Listas para almacenar las líneas de texto y sus etiquetas\n",
        "texts = []\n",
        "labels = []\n",
        "\n",
        "# Función para leer los archivos de una carpeta y etiquetarlos\n",
        "def leer_archivos(directorio, etiqueta):\n",
        "    for filename in os.listdir(directorio):\n",
        "        file_path = os.path.join(directorio, filename)\n",
        "        if file_path.endswith('.txt'):  # Solo leer archivos .txt\n",
        "            with open(file_path, 'r', encoding='utf-8') as file:\n",
        "                lines = file.readlines()  # Leer todas las líneas del archivo\n",
        "                for line in lines:\n",
        "                    texts.append(line.strip())  # Añadir la línea al texto (eliminando saltos de línea)\n",
        "                    labels.append(etiqueta)  # Añadir la etiqueta (kitchen, bathroom o bedroom)\n",
        "\n",
        "# Leer archivos de las tres carpetas\n",
        "leer_archivos(directorio_kitchen, 'kitchen')\n",
        "leer_archivos(directorio_bathroom, 'bathroom')\n",
        "leer_archivos(directorio_bedroom, 'bedroom')  # Leer archivos de bedroom\n",
        "\n",
        "# Crear un DataFrame con las líneas y las etiquetas\n",
        "df = pd.DataFrame({'Texto': texts, 'Etiqueta': labels})\n",
        "\n",
        "# Ver las primeras filas del DataFrame\n",
        "print(df.head())\n",
        "\n",
        "# Ver el tamaño del DataFrame\n",
        "print(f\"El tamaño del DataFrame es: {df.shape}\")\n",
        "\n"
      ],
      "execution_count": null,
      "outputs": [
        {
          "output_type": "stream",
          "name": "stdout",
          "text": [
            "                                               Texto Etiqueta\n",
            "0  refrigerator microwave upper_cabinet upper_cab...  kitchen\n",
            "1  upper_cabinet bottle bowl window picture sink ...  kitchen\n",
            "2                                       wall_cabinet  kitchen\n",
            "3  wall_cabinet refrigerator microwave upper_cabi...  kitchen\n",
            "4  refrigerator microwave upper_cabinet upper_cab...  kitchen\n",
            "El tamaño del DataFrame es: (465, 2)\n"
          ]
        }
      ]
    },
    {
      "cell_type": "markdown",
      "metadata": {
        "id": "9jqaQ6zDUeYk"
      },
      "source": [
        "**Declaración de etiquetas**"
      ]
    },
    {
      "cell_type": "code",
      "source": [
        "from sklearn.preprocessing import LabelEncoder\n",
        "import tensorflow as tf\n",
        "\n",
        "\n",
        "# ----------------------\n",
        "# Paso 1: Vectorización del texto usando TextVectorization\n",
        "# ----------------------\n",
        "\n",
        "# Crear un objeto TextVectorization para vectorizar el texto\n",
        "vectorize_layer = tf.keras.layers.TextVectorization(output_mode='int', output_sequence_length=10)\n",
        "\n",
        "# Adaptar el vectorizador al texto del DataFrame\n",
        "vectorize_layer.adapt(df['Texto'].values)\n",
        "\n",
        "# Vectorizar el texto\n",
        "vector = vectorize_layer(df['Texto'].values)\n",
        "\n"
      ],
      "metadata": {
        "id": "FgBzXDKK1GLQ"
      },
      "execution_count": null,
      "outputs": []
    },
    {
      "cell_type": "code",
      "source": [
        "# ----------------------\n",
        "# Paso 2: Label Encoding para las etiquetas\n",
        "# ----------------------\n",
        "\n",
        "# Crear el codificador LabelEncoder\n",
        "label_encoder = LabelEncoder()\n",
        "\n",
        "# Aplicar el LabelEncoder en la columna 'Etiqueta'\n",
        "etiquetas = label_encoder.fit_transform(df['Etiqueta'])\n",
        "etiquetas = tf.keras.utils.to_categorical(etiquetas, num_classes=3)  # 3 clases: 0, 1, 2\n"
      ],
      "metadata": {
        "id": "VZnsfFOc6uCW"
      },
      "execution_count": null,
      "outputs": []
    },
    {
      "cell_type": "markdown",
      "source": [
        "# **Dividir dataset**"
      ],
      "metadata": {
        "id": "0Db-xaAmCFfU"
      }
    },
    {
      "cell_type": "code",
      "source": [
        "from sklearn.model_selection import train_test_split\n",
        "\n",
        "X_train, X_valid, y_train, y_valid = train_test_split(vector.numpy(), etiquetas, test_size=0.2, random_state=42)\n",
        "\n",
        "X_train, X_test, y_train, y_test = train_test_split(X_train, y_train, test_size=0.2, random_state=42)\n",
        "\n"
      ],
      "metadata": {
        "id": "drqltGgVCSHp"
      },
      "execution_count": null,
      "outputs": []
    },
    {
      "cell_type": "code",
      "source": [
        "# Crear el modelo\n",
        "model = tf.keras.Sequential([\n",
        "    tf.keras.layers.Embedding(input_dim=10000, output_dim=128, input_length=100),  # Embedding layer\n",
        "\n",
        "    tf.keras.layers.Dense(25, activation='relu'),\n",
        "    tf.keras.layers.GlobalAveragePooling1D(),\n",
        "    tf.keras.layers.Dropout(0.2),\n",
        "    tf.keras.layers.Dense(3, activation='softmax')  # 3 clases\n",
        "])"
      ],
      "metadata": {
        "id": "ku64bq-4BJ1H"
      },
      "execution_count": null,
      "outputs": []
    },
    {
      "cell_type": "code",
      "source": [
        "\n",
        "# Compilar el modelo\n",
        "model.compile(optimizer='adam', loss='categorical_crossentropy', metrics=['categorical_accuracy'])\n",
        "\n",
        "# Entrenamiento\n",
        "history = model.fit(\n",
        "    X_train,  # Entrenamiento (vectorizado)\n",
        "    y_train,  # Etiquetas de entrenamiento\n",
        "    validation_data=(X_valid, y_valid),  # Datos de validación\n",
        "    epochs=100,  # Número de épocas para entrenar\n",
        "    batch_size=32  # Tamaño del batch (opcional, puedes ajustarlo)\n",
        ")\n"
      ],
      "metadata": {
        "colab": {
          "base_uri": "https://localhost:8080/"
        },
        "id": "xHFScrgjB2Pi",
        "outputId": "56149e76-f330-45ab-9e0b-18e0a0f9a900"
      },
      "execution_count": null,
      "outputs": [
        {
          "output_type": "stream",
          "name": "stdout",
          "text": [
            "Epoch 1/100\n",
            "\u001b[1m10/10\u001b[0m \u001b[32m━━━━━━━━━━━━━━━━━━━━\u001b[0m\u001b[37m\u001b[0m \u001b[1m4s\u001b[0m 210ms/step - categorical_accuracy: 0.4442 - loss: 1.0875 - val_categorical_accuracy: 0.7312 - val_loss: 1.0391\n",
            "Epoch 2/100\n",
            "\u001b[1m10/10\u001b[0m \u001b[32m━━━━━━━━━━━━━━━━━━━━\u001b[0m\u001b[37m\u001b[0m \u001b[1m2s\u001b[0m 49ms/step - categorical_accuracy: 0.7150 - loss: 1.0221 - val_categorical_accuracy: 0.6882 - val_loss: 0.9659\n",
            "Epoch 3/100\n",
            "\u001b[1m10/10\u001b[0m \u001b[32m━━━━━━━━━━━━━━━━━━━━\u001b[0m\u001b[37m\u001b[0m \u001b[1m0s\u001b[0m 15ms/step - categorical_accuracy: 0.7415 - loss: 0.9432 - val_categorical_accuracy: 0.6882 - val_loss: 0.8710\n",
            "Epoch 4/100\n",
            "\u001b[1m10/10\u001b[0m \u001b[32m━━━━━━━━━━━━━━━━━━━━\u001b[0m\u001b[37m\u001b[0m \u001b[1m0s\u001b[0m 18ms/step - categorical_accuracy: 0.7037 - loss: 0.8523 - val_categorical_accuracy: 0.7097 - val_loss: 0.7672\n",
            "Epoch 5/100\n",
            "\u001b[1m10/10\u001b[0m \u001b[32m━━━━━━━━━━━━━━━━━━━━\u001b[0m\u001b[37m\u001b[0m \u001b[1m0s\u001b[0m 18ms/step - categorical_accuracy: 0.7520 - loss: 0.7337 - val_categorical_accuracy: 0.7957 - val_loss: 0.6557\n",
            "Epoch 6/100\n",
            "\u001b[1m10/10\u001b[0m \u001b[32m━━━━━━━━━━━━━━━━━━━━\u001b[0m\u001b[37m\u001b[0m \u001b[1m0s\u001b[0m 10ms/step - categorical_accuracy: 0.7847 - loss: 0.6428 - val_categorical_accuracy: 0.8495 - val_loss: 0.5487\n",
            "Epoch 7/100\n",
            "\u001b[1m10/10\u001b[0m \u001b[32m━━━━━━━━━━━━━━━━━━━━\u001b[0m\u001b[37m\u001b[0m \u001b[1m0s\u001b[0m 9ms/step - categorical_accuracy: 0.8072 - loss: 0.5541 - val_categorical_accuracy: 0.8495 - val_loss: 0.4660\n",
            "Epoch 8/100\n",
            "\u001b[1m10/10\u001b[0m \u001b[32m━━━━━━━━━━━━━━━━━━━━\u001b[0m\u001b[37m\u001b[0m \u001b[1m0s\u001b[0m 9ms/step - categorical_accuracy: 0.8529 - loss: 0.4630 - val_categorical_accuracy: 0.9247 - val_loss: 0.3927\n",
            "Epoch 9/100\n",
            "\u001b[1m10/10\u001b[0m \u001b[32m━━━━━━━━━━━━━━━━━━━━\u001b[0m\u001b[37m\u001b[0m \u001b[1m0s\u001b[0m 10ms/step - categorical_accuracy: 0.8840 - loss: 0.4053 - val_categorical_accuracy: 0.9462 - val_loss: 0.3300\n",
            "Epoch 10/100\n",
            "\u001b[1m10/10\u001b[0m \u001b[32m━━━━━━━━━━━━━━━━━━━━\u001b[0m\u001b[37m\u001b[0m \u001b[1m0s\u001b[0m 10ms/step - categorical_accuracy: 0.8810 - loss: 0.3594 - val_categorical_accuracy: 0.9570 - val_loss: 0.2816\n",
            "Epoch 11/100\n",
            "\u001b[1m10/10\u001b[0m \u001b[32m━━━━━━━━━━━━━━━━━━━━\u001b[0m\u001b[37m\u001b[0m \u001b[1m0s\u001b[0m 10ms/step - categorical_accuracy: 0.8920 - loss: 0.3337 - val_categorical_accuracy: 0.9570 - val_loss: 0.2444\n",
            "Epoch 12/100\n",
            "\u001b[1m10/10\u001b[0m \u001b[32m━━━━━━━━━━━━━━━━━━━━\u001b[0m\u001b[37m\u001b[0m \u001b[1m0s\u001b[0m 9ms/step - categorical_accuracy: 0.9316 - loss: 0.2773 - val_categorical_accuracy: 0.9570 - val_loss: 0.2129\n",
            "Epoch 13/100\n",
            "\u001b[1m10/10\u001b[0m \u001b[32m━━━━━━━━━━━━━━━━━━━━\u001b[0m\u001b[37m\u001b[0m \u001b[1m0s\u001b[0m 9ms/step - categorical_accuracy: 0.9042 - loss: 0.2774 - val_categorical_accuracy: 0.9570 - val_loss: 0.1940\n",
            "Epoch 14/100\n",
            "\u001b[1m10/10\u001b[0m \u001b[32m━━━━━━━━━━━━━━━━━━━━\u001b[0m\u001b[37m\u001b[0m \u001b[1m0s\u001b[0m 9ms/step - categorical_accuracy: 0.9263 - loss: 0.2605 - val_categorical_accuracy: 0.9677 - val_loss: 0.1750\n",
            "Epoch 15/100\n",
            "\u001b[1m10/10\u001b[0m \u001b[32m━━━━━━━━━━━━━━━━━━━━\u001b[0m\u001b[37m\u001b[0m \u001b[1m0s\u001b[0m 8ms/step - categorical_accuracy: 0.9305 - loss: 0.2510 - val_categorical_accuracy: 0.9677 - val_loss: 0.1586\n",
            "Epoch 16/100\n",
            "\u001b[1m10/10\u001b[0m \u001b[32m━━━━━━━━━━━━━━━━━━━━\u001b[0m\u001b[37m\u001b[0m \u001b[1m0s\u001b[0m 13ms/step - categorical_accuracy: 0.9353 - loss: 0.2039 - val_categorical_accuracy: 0.9677 - val_loss: 0.1410\n",
            "Epoch 17/100\n",
            "\u001b[1m10/10\u001b[0m \u001b[32m━━━━━━━━━━━━━━━━━━━━\u001b[0m\u001b[37m\u001b[0m \u001b[1m0s\u001b[0m 9ms/step - categorical_accuracy: 0.8945 - loss: 0.2248 - val_categorical_accuracy: 0.9677 - val_loss: 0.1332\n",
            "Epoch 18/100\n",
            "\u001b[1m10/10\u001b[0m \u001b[32m━━━━━━━━━━━━━━━━━━━━\u001b[0m\u001b[37m\u001b[0m \u001b[1m0s\u001b[0m 8ms/step - categorical_accuracy: 0.9399 - loss: 0.2089 - val_categorical_accuracy: 0.9677 - val_loss: 0.1163\n",
            "Epoch 19/100\n",
            "\u001b[1m10/10\u001b[0m \u001b[32m━━━━━━━━━━━━━━━━━━━━\u001b[0m\u001b[37m\u001b[0m \u001b[1m0s\u001b[0m 8ms/step - categorical_accuracy: 0.9335 - loss: 0.1986 - val_categorical_accuracy: 0.9677 - val_loss: 0.1053\n",
            "Epoch 20/100\n",
            "\u001b[1m10/10\u001b[0m \u001b[32m━━━━━━━━━━━━━━━━━━━━\u001b[0m\u001b[37m\u001b[0m \u001b[1m0s\u001b[0m 9ms/step - categorical_accuracy: 0.9408 - loss: 0.2008 - val_categorical_accuracy: 0.9677 - val_loss: 0.0967\n",
            "Epoch 21/100\n",
            "\u001b[1m10/10\u001b[0m \u001b[32m━━━━━━━━━━━━━━━━━━━━\u001b[0m\u001b[37m\u001b[0m \u001b[1m0s\u001b[0m 8ms/step - categorical_accuracy: 0.9255 - loss: 0.1765 - val_categorical_accuracy: 0.9785 - val_loss: 0.0912\n",
            "Epoch 22/100\n",
            "\u001b[1m10/10\u001b[0m \u001b[32m━━━━━━━━━━━━━━━━━━━━\u001b[0m\u001b[37m\u001b[0m \u001b[1m0s\u001b[0m 10ms/step - categorical_accuracy: 0.9398 - loss: 0.1800 - val_categorical_accuracy: 0.9785 - val_loss: 0.0851\n",
            "Epoch 23/100\n",
            "\u001b[1m10/10\u001b[0m \u001b[32m━━━━━━━━━━━━━━━━━━━━\u001b[0m\u001b[37m\u001b[0m \u001b[1m0s\u001b[0m 8ms/step - categorical_accuracy: 0.9513 - loss: 0.1459 - val_categorical_accuracy: 0.9785 - val_loss: 0.0803\n",
            "Epoch 24/100\n",
            "\u001b[1m10/10\u001b[0m \u001b[32m━━━━━━━━━━━━━━━━━━━━\u001b[0m\u001b[37m\u001b[0m \u001b[1m0s\u001b[0m 8ms/step - categorical_accuracy: 0.9457 - loss: 0.1634 - val_categorical_accuracy: 0.9892 - val_loss: 0.0770\n",
            "Epoch 25/100\n",
            "\u001b[1m10/10\u001b[0m \u001b[32m━━━━━━━━━━━━━━━━━━━━\u001b[0m\u001b[37m\u001b[0m \u001b[1m0s\u001b[0m 13ms/step - categorical_accuracy: 0.9417 - loss: 0.1431 - val_categorical_accuracy: 0.9785 - val_loss: 0.0734\n",
            "Epoch 26/100\n",
            "\u001b[1m10/10\u001b[0m \u001b[32m━━━━━━━━━━━━━━━━━━━━\u001b[0m\u001b[37m\u001b[0m \u001b[1m0s\u001b[0m 8ms/step - categorical_accuracy: 0.9570 - loss: 0.1352 - val_categorical_accuracy: 0.9892 - val_loss: 0.0718\n",
            "Epoch 27/100\n",
            "\u001b[1m10/10\u001b[0m \u001b[32m━━━━━━━━━━━━━━━━━━━━\u001b[0m\u001b[37m\u001b[0m \u001b[1m0s\u001b[0m 9ms/step - categorical_accuracy: 0.9331 - loss: 0.1610 - val_categorical_accuracy: 0.9677 - val_loss: 0.0713\n",
            "Epoch 28/100\n",
            "\u001b[1m10/10\u001b[0m \u001b[32m━━━━━━━━━━━━━━━━━━━━\u001b[0m\u001b[37m\u001b[0m \u001b[1m0s\u001b[0m 9ms/step - categorical_accuracy: 0.9656 - loss: 0.1097 - val_categorical_accuracy: 0.9677 - val_loss: 0.0684\n",
            "Epoch 29/100\n",
            "\u001b[1m10/10\u001b[0m \u001b[32m━━━━━━━━━━━━━━━━━━━━\u001b[0m\u001b[37m\u001b[0m \u001b[1m0s\u001b[0m 9ms/step - categorical_accuracy: 0.9372 - loss: 0.1323 - val_categorical_accuracy: 0.9892 - val_loss: 0.0580\n",
            "Epoch 30/100\n",
            "\u001b[1m10/10\u001b[0m \u001b[32m━━━━━━━━━━━━━━━━━━━━\u001b[0m\u001b[37m\u001b[0m \u001b[1m0s\u001b[0m 11ms/step - categorical_accuracy: 0.9403 - loss: 0.1367 - val_categorical_accuracy: 0.9785 - val_loss: 0.0548\n",
            "Epoch 31/100\n",
            "\u001b[1m10/10\u001b[0m \u001b[32m━━━━━━━━━━━━━━━━━━━━\u001b[0m\u001b[37m\u001b[0m \u001b[1m0s\u001b[0m 10ms/step - categorical_accuracy: 0.9379 - loss: 0.1268 - val_categorical_accuracy: 0.9892 - val_loss: 0.0583\n",
            "Epoch 32/100\n",
            "\u001b[1m10/10\u001b[0m \u001b[32m━━━━━━━━━━━━━━━━━━━━\u001b[0m\u001b[37m\u001b[0m \u001b[1m0s\u001b[0m 10ms/step - categorical_accuracy: 0.9676 - loss: 0.1024 - val_categorical_accuracy: 0.9892 - val_loss: 0.0528\n",
            "Epoch 33/100\n",
            "\u001b[1m10/10\u001b[0m \u001b[32m━━━━━━━━━━━━━━━━━━━━\u001b[0m\u001b[37m\u001b[0m \u001b[1m0s\u001b[0m 10ms/step - categorical_accuracy: 0.9536 - loss: 0.1334 - val_categorical_accuracy: 0.9892 - val_loss: 0.0545\n",
            "Epoch 34/100\n",
            "\u001b[1m10/10\u001b[0m \u001b[32m━━━━━━━━━━━━━━━━━━━━\u001b[0m\u001b[37m\u001b[0m \u001b[1m0s\u001b[0m 14ms/step - categorical_accuracy: 0.9420 - loss: 0.1417 - val_categorical_accuracy: 0.9892 - val_loss: 0.0552\n",
            "Epoch 35/100\n",
            "\u001b[1m10/10\u001b[0m \u001b[32m━━━━━━━━━━━━━━━━━━━━\u001b[0m\u001b[37m\u001b[0m \u001b[1m0s\u001b[0m 10ms/step - categorical_accuracy: 0.9468 - loss: 0.1365 - val_categorical_accuracy: 0.9892 - val_loss: 0.0524\n",
            "Epoch 36/100\n",
            "\u001b[1m10/10\u001b[0m \u001b[32m━━━━━━━━━━━━━━━━━━━━\u001b[0m\u001b[37m\u001b[0m \u001b[1m0s\u001b[0m 9ms/step - categorical_accuracy: 0.9572 - loss: 0.1202 - val_categorical_accuracy: 0.9892 - val_loss: 0.0511\n",
            "Epoch 37/100\n",
            "\u001b[1m10/10\u001b[0m \u001b[32m━━━━━━━━━━━━━━━━━━━━\u001b[0m\u001b[37m\u001b[0m \u001b[1m0s\u001b[0m 13ms/step - categorical_accuracy: 0.9477 - loss: 0.1288 - val_categorical_accuracy: 0.9892 - val_loss: 0.0494\n",
            "Epoch 38/100\n",
            "\u001b[1m10/10\u001b[0m \u001b[32m━━━━━━━━━━━━━━━━━━━━\u001b[0m\u001b[37m\u001b[0m \u001b[1m0s\u001b[0m 14ms/step - categorical_accuracy: 0.9424 - loss: 0.1458 - val_categorical_accuracy: 0.9677 - val_loss: 0.0503\n",
            "Epoch 39/100\n",
            "\u001b[1m10/10\u001b[0m \u001b[32m━━━━━━━━━━━━━━━━━━━━\u001b[0m\u001b[37m\u001b[0m \u001b[1m0s\u001b[0m 13ms/step - categorical_accuracy: 0.9368 - loss: 0.1348 - val_categorical_accuracy: 0.9892 - val_loss: 0.0482\n",
            "Epoch 40/100\n",
            "\u001b[1m10/10\u001b[0m \u001b[32m━━━━━━━━━━━━━━━━━━━━\u001b[0m\u001b[37m\u001b[0m \u001b[1m0s\u001b[0m 9ms/step - categorical_accuracy: 0.9247 - loss: 0.1317 - val_categorical_accuracy: 0.9892 - val_loss: 0.0434\n",
            "Epoch 41/100\n",
            "\u001b[1m10/10\u001b[0m \u001b[32m━━━━━━━━━━━━━━━━━━━━\u001b[0m\u001b[37m\u001b[0m \u001b[1m0s\u001b[0m 13ms/step - categorical_accuracy: 0.9494 - loss: 0.1156 - val_categorical_accuracy: 0.9785 - val_loss: 0.0484\n",
            "Epoch 42/100\n",
            "\u001b[1m10/10\u001b[0m \u001b[32m━━━━━━━━━━━━━━━━━━━━\u001b[0m\u001b[37m\u001b[0m \u001b[1m0s\u001b[0m 8ms/step - categorical_accuracy: 0.9475 - loss: 0.1080 - val_categorical_accuracy: 1.0000 - val_loss: 0.0433\n",
            "Epoch 43/100\n",
            "\u001b[1m10/10\u001b[0m \u001b[32m━━━━━━━━━━━━━━━━━━━━\u001b[0m\u001b[37m\u001b[0m \u001b[1m0s\u001b[0m 8ms/step - categorical_accuracy: 0.9721 - loss: 0.0908 - val_categorical_accuracy: 1.0000 - val_loss: 0.0398\n",
            "Epoch 44/100\n",
            "\u001b[1m10/10\u001b[0m \u001b[32m━━━━━━━━━━━━━━━━━━━━\u001b[0m\u001b[37m\u001b[0m \u001b[1m0s\u001b[0m 9ms/step - categorical_accuracy: 0.9472 - loss: 0.1201 - val_categorical_accuracy: 1.0000 - val_loss: 0.0412\n",
            "Epoch 45/100\n",
            "\u001b[1m10/10\u001b[0m \u001b[32m━━━━━━━━━━━━━━━━━━━━\u001b[0m\u001b[37m\u001b[0m \u001b[1m0s\u001b[0m 10ms/step - categorical_accuracy: 0.9554 - loss: 0.0905 - val_categorical_accuracy: 0.9785 - val_loss: 0.0436\n",
            "Epoch 46/100\n",
            "\u001b[1m10/10\u001b[0m \u001b[32m━━━━━━━━━━━━━━━━━━━━\u001b[0m\u001b[37m\u001b[0m \u001b[1m0s\u001b[0m 9ms/step - categorical_accuracy: 0.9609 - loss: 0.0977 - val_categorical_accuracy: 1.0000 - val_loss: 0.0421\n",
            "Epoch 47/100\n",
            "\u001b[1m10/10\u001b[0m \u001b[32m━━━━━━━━━━━━━━━━━━━━\u001b[0m\u001b[37m\u001b[0m \u001b[1m0s\u001b[0m 13ms/step - categorical_accuracy: 0.9462 - loss: 0.1160 - val_categorical_accuracy: 1.0000 - val_loss: 0.0359\n",
            "Epoch 48/100\n",
            "\u001b[1m10/10\u001b[0m \u001b[32m━━━━━━━━━━━━━━━━━━━━\u001b[0m\u001b[37m\u001b[0m \u001b[1m0s\u001b[0m 10ms/step - categorical_accuracy: 0.9582 - loss: 0.1112 - val_categorical_accuracy: 1.0000 - val_loss: 0.0360\n",
            "Epoch 49/100\n",
            "\u001b[1m10/10\u001b[0m \u001b[32m━━━━━━━━━━━━━━━━━━━━\u001b[0m\u001b[37m\u001b[0m \u001b[1m0s\u001b[0m 9ms/step - categorical_accuracy: 0.9397 - loss: 0.1310 - val_categorical_accuracy: 0.9785 - val_loss: 0.0398\n",
            "Epoch 50/100\n",
            "\u001b[1m10/10\u001b[0m \u001b[32m━━━━━━━━━━━━━━━━━━━━\u001b[0m\u001b[37m\u001b[0m \u001b[1m0s\u001b[0m 14ms/step - categorical_accuracy: 0.9599 - loss: 0.0861 - val_categorical_accuracy: 1.0000 - val_loss: 0.0356\n",
            "Epoch 51/100\n",
            "\u001b[1m10/10\u001b[0m \u001b[32m━━━━━━━━━━━━━━━━━━━━\u001b[0m\u001b[37m\u001b[0m \u001b[1m0s\u001b[0m 9ms/step - categorical_accuracy: 0.9364 - loss: 0.1273 - val_categorical_accuracy: 1.0000 - val_loss: 0.0319\n",
            "Epoch 52/100\n",
            "\u001b[1m10/10\u001b[0m \u001b[32m━━━━━━━━━━━━━━━━━━━━\u001b[0m\u001b[37m\u001b[0m \u001b[1m0s\u001b[0m 10ms/step - categorical_accuracy: 0.9458 - loss: 0.1104 - val_categorical_accuracy: 1.0000 - val_loss: 0.0338\n",
            "Epoch 53/100\n",
            "\u001b[1m10/10\u001b[0m \u001b[32m━━━━━━━━━━━━━━━━━━━━\u001b[0m\u001b[37m\u001b[0m \u001b[1m0s\u001b[0m 10ms/step - categorical_accuracy: 0.9418 - loss: 0.1110 - val_categorical_accuracy: 1.0000 - val_loss: 0.0332\n",
            "Epoch 54/100\n",
            "\u001b[1m10/10\u001b[0m \u001b[32m━━━━━━━━━━━━━━━━━━━━\u001b[0m\u001b[37m\u001b[0m \u001b[1m0s\u001b[0m 9ms/step - categorical_accuracy: 0.9739 - loss: 0.0856 - val_categorical_accuracy: 1.0000 - val_loss: 0.0343\n",
            "Epoch 55/100\n",
            "\u001b[1m10/10\u001b[0m \u001b[32m━━━━━━━━━━━━━━━━━━━━\u001b[0m\u001b[37m\u001b[0m \u001b[1m0s\u001b[0m 13ms/step - categorical_accuracy: 0.9370 - loss: 0.1122 - val_categorical_accuracy: 1.0000 - val_loss: 0.0321\n",
            "Epoch 56/100\n",
            "\u001b[1m10/10\u001b[0m \u001b[32m━━━━━━━━━━━━━━━━━━━━\u001b[0m\u001b[37m\u001b[0m \u001b[1m0s\u001b[0m 13ms/step - categorical_accuracy: 0.9598 - loss: 0.0893 - val_categorical_accuracy: 1.0000 - val_loss: 0.0313\n",
            "Epoch 57/100\n",
            "\u001b[1m10/10\u001b[0m \u001b[32m━━━━━━━━━━━━━━━━━━━━\u001b[0m\u001b[37m\u001b[0m \u001b[1m0s\u001b[0m 10ms/step - categorical_accuracy: 0.9369 - loss: 0.1219 - val_categorical_accuracy: 1.0000 - val_loss: 0.0281\n",
            "Epoch 58/100\n",
            "\u001b[1m10/10\u001b[0m \u001b[32m━━━━━━━━━━━━━━━━━━━━\u001b[0m\u001b[37m\u001b[0m \u001b[1m0s\u001b[0m 9ms/step - categorical_accuracy: 0.9703 - loss: 0.0915 - val_categorical_accuracy: 1.0000 - val_loss: 0.0265\n",
            "Epoch 59/100\n",
            "\u001b[1m10/10\u001b[0m \u001b[32m━━━━━━━━━━━━━━━━━━━━\u001b[0m\u001b[37m\u001b[0m \u001b[1m0s\u001b[0m 13ms/step - categorical_accuracy: 0.9275 - loss: 0.1244 - val_categorical_accuracy: 1.0000 - val_loss: 0.0310\n",
            "Epoch 60/100\n",
            "\u001b[1m10/10\u001b[0m \u001b[32m━━━━━━━━━━━━━━━━━━━━\u001b[0m\u001b[37m\u001b[0m \u001b[1m0s\u001b[0m 9ms/step - categorical_accuracy: 0.9605 - loss: 0.0875 - val_categorical_accuracy: 1.0000 - val_loss: 0.0274\n",
            "Epoch 61/100\n",
            "\u001b[1m10/10\u001b[0m \u001b[32m━━━━━━━━━━━━━━━━━━━━\u001b[0m\u001b[37m\u001b[0m \u001b[1m0s\u001b[0m 13ms/step - categorical_accuracy: 0.9350 - loss: 0.1082 - val_categorical_accuracy: 1.0000 - val_loss: 0.0281\n",
            "Epoch 62/100\n",
            "\u001b[1m10/10\u001b[0m \u001b[32m━━━━━━━━━━━━━━━━━━━━\u001b[0m\u001b[37m\u001b[0m \u001b[1m0s\u001b[0m 15ms/step - categorical_accuracy: 0.9554 - loss: 0.1085 - val_categorical_accuracy: 1.0000 - val_loss: 0.0256\n",
            "Epoch 63/100\n",
            "\u001b[1m10/10\u001b[0m \u001b[32m━━━━━━━━━━━━━━━━━━━━\u001b[0m\u001b[37m\u001b[0m \u001b[1m0s\u001b[0m 9ms/step - categorical_accuracy: 0.9352 - loss: 0.0988 - val_categorical_accuracy: 1.0000 - val_loss: 0.0223\n",
            "Epoch 64/100\n",
            "\u001b[1m10/10\u001b[0m \u001b[32m━━━━━━━━━━━━━━━━━━━━\u001b[0m\u001b[37m\u001b[0m \u001b[1m0s\u001b[0m 13ms/step - categorical_accuracy: 0.9528 - loss: 0.0969 - val_categorical_accuracy: 1.0000 - val_loss: 0.0238\n",
            "Epoch 65/100\n",
            "\u001b[1m10/10\u001b[0m \u001b[32m━━━━━━━━━━━━━━━━━━━━\u001b[0m\u001b[37m\u001b[0m \u001b[1m0s\u001b[0m 9ms/step - categorical_accuracy: 0.9389 - loss: 0.1024 - val_categorical_accuracy: 1.0000 - val_loss: 0.0256\n",
            "Epoch 66/100\n",
            "\u001b[1m10/10\u001b[0m \u001b[32m━━━━━━━━━━━━━━━━━━━━\u001b[0m\u001b[37m\u001b[0m \u001b[1m0s\u001b[0m 28ms/step - categorical_accuracy: 0.9677 - loss: 0.0842 - val_categorical_accuracy: 1.0000 - val_loss: 0.0244\n",
            "Epoch 67/100\n",
            "\u001b[1m10/10\u001b[0m \u001b[32m━━━━━━━━━━━━━━━━━━━━\u001b[0m\u001b[37m\u001b[0m \u001b[1m0s\u001b[0m 15ms/step - categorical_accuracy: 0.9443 - loss: 0.0967 - val_categorical_accuracy: 1.0000 - val_loss: 0.0254\n",
            "Epoch 68/100\n",
            "\u001b[1m10/10\u001b[0m \u001b[32m━━━━━━━━━━━━━━━━━━━━\u001b[0m\u001b[37m\u001b[0m \u001b[1m0s\u001b[0m 8ms/step - categorical_accuracy: 0.9744 - loss: 0.0783 - val_categorical_accuracy: 1.0000 - val_loss: 0.0235\n",
            "Epoch 69/100\n",
            "\u001b[1m10/10\u001b[0m \u001b[32m━━━━━━━━━━━━━━━━━━━━\u001b[0m\u001b[37m\u001b[0m \u001b[1m0s\u001b[0m 9ms/step - categorical_accuracy: 0.9420 - loss: 0.1070 - val_categorical_accuracy: 1.0000 - val_loss: 0.0300\n",
            "Epoch 70/100\n",
            "\u001b[1m10/10\u001b[0m \u001b[32m━━━━━━━━━━━━━━━━━━━━\u001b[0m\u001b[37m\u001b[0m \u001b[1m0s\u001b[0m 10ms/step - categorical_accuracy: 0.9757 - loss: 0.0791 - val_categorical_accuracy: 1.0000 - val_loss: 0.0219\n",
            "Epoch 71/100\n",
            "\u001b[1m10/10\u001b[0m \u001b[32m━━━━━━━━━━━━━━━━━━━━\u001b[0m\u001b[37m\u001b[0m \u001b[1m0s\u001b[0m 29ms/step - categorical_accuracy: 0.9577 - loss: 0.0926 - val_categorical_accuracy: 1.0000 - val_loss: 0.0177\n",
            "Epoch 72/100\n",
            "\u001b[1m10/10\u001b[0m \u001b[32m━━━━━━━━━━━━━━━━━━━━\u001b[0m\u001b[37m\u001b[0m \u001b[1m0s\u001b[0m 13ms/step - categorical_accuracy: 0.9732 - loss: 0.0876 - val_categorical_accuracy: 1.0000 - val_loss: 0.0245\n",
            "Epoch 73/100\n",
            "\u001b[1m10/10\u001b[0m \u001b[32m━━━━━━━━━━━━━━━━━━━━\u001b[0m\u001b[37m\u001b[0m \u001b[1m0s\u001b[0m 13ms/step - categorical_accuracy: 0.9564 - loss: 0.0875 - val_categorical_accuracy: 1.0000 - val_loss: 0.0267\n",
            "Epoch 74/100\n",
            "\u001b[1m10/10\u001b[0m \u001b[32m━━━━━━━━━━━━━━━━━━━━\u001b[0m\u001b[37m\u001b[0m \u001b[1m0s\u001b[0m 9ms/step - categorical_accuracy: 0.9680 - loss: 0.0804 - val_categorical_accuracy: 1.0000 - val_loss: 0.0247\n",
            "Epoch 75/100\n",
            "\u001b[1m10/10\u001b[0m \u001b[32m━━━━━━━━━━━━━━━━━━━━\u001b[0m\u001b[37m\u001b[0m \u001b[1m0s\u001b[0m 17ms/step - categorical_accuracy: 0.9530 - loss: 0.0990 - val_categorical_accuracy: 1.0000 - val_loss: 0.0245\n",
            "Epoch 76/100\n",
            "\u001b[1m10/10\u001b[0m \u001b[32m━━━━━━━━━━━━━━━━━━━━\u001b[0m\u001b[37m\u001b[0m \u001b[1m0s\u001b[0m 17ms/step - categorical_accuracy: 0.9631 - loss: 0.0837 - val_categorical_accuracy: 1.0000 - val_loss: 0.0271\n",
            "Epoch 77/100\n",
            "\u001b[1m10/10\u001b[0m \u001b[32m━━━━━━━━━━━━━━━━━━━━\u001b[0m\u001b[37m\u001b[0m \u001b[1m0s\u001b[0m 12ms/step - categorical_accuracy: 0.9567 - loss: 0.1046 - val_categorical_accuracy: 1.0000 - val_loss: 0.0235\n",
            "Epoch 78/100\n",
            "\u001b[1m10/10\u001b[0m \u001b[32m━━━━━━━━━━━━━━━━━━━━\u001b[0m\u001b[37m\u001b[0m \u001b[1m0s\u001b[0m 17ms/step - categorical_accuracy: 0.9691 - loss: 0.0851 - val_categorical_accuracy: 1.0000 - val_loss: 0.0217\n",
            "Epoch 79/100\n",
            "\u001b[1m10/10\u001b[0m \u001b[32m━━━━━━━━━━━━━━━━━━━━\u001b[0m\u001b[37m\u001b[0m \u001b[1m0s\u001b[0m 17ms/step - categorical_accuracy: 0.9510 - loss: 0.0874 - val_categorical_accuracy: 1.0000 - val_loss: 0.0227\n",
            "Epoch 80/100\n",
            "\u001b[1m10/10\u001b[0m \u001b[32m━━━━━━━━━━━━━━━━━━━━\u001b[0m\u001b[37m\u001b[0m \u001b[1m0s\u001b[0m 18ms/step - categorical_accuracy: 0.9817 - loss: 0.0728 - val_categorical_accuracy: 1.0000 - val_loss: 0.0187\n",
            "Epoch 81/100\n",
            "\u001b[1m10/10\u001b[0m \u001b[32m━━━━━━━━━━━━━━━━━━━━\u001b[0m\u001b[37m\u001b[0m \u001b[1m0s\u001b[0m 16ms/step - categorical_accuracy: 0.9508 - loss: 0.0920 - val_categorical_accuracy: 1.0000 - val_loss: 0.0212\n",
            "Epoch 82/100\n",
            "\u001b[1m10/10\u001b[0m \u001b[32m━━━━━━━━━━━━━━━━━━━━\u001b[0m\u001b[37m\u001b[0m \u001b[1m0s\u001b[0m 16ms/step - categorical_accuracy: 0.9548 - loss: 0.0900 - val_categorical_accuracy: 1.0000 - val_loss: 0.0217\n",
            "Epoch 83/100\n",
            "\u001b[1m10/10\u001b[0m \u001b[32m━━━━━━━━━━━━━━━━━━━━\u001b[0m\u001b[37m\u001b[0m \u001b[1m0s\u001b[0m 17ms/step - categorical_accuracy: 0.9704 - loss: 0.0651 - val_categorical_accuracy: 1.0000 - val_loss: 0.0207\n",
            "Epoch 84/100\n",
            "\u001b[1m10/10\u001b[0m \u001b[32m━━━━━━━━━━━━━━━━━━━━\u001b[0m\u001b[37m\u001b[0m \u001b[1m0s\u001b[0m 16ms/step - categorical_accuracy: 0.9498 - loss: 0.0864 - val_categorical_accuracy: 1.0000 - val_loss: 0.0202\n",
            "Epoch 85/100\n",
            "\u001b[1m10/10\u001b[0m \u001b[32m━━━━━━━━━━━━━━━━━━━━\u001b[0m\u001b[37m\u001b[0m \u001b[1m0s\u001b[0m 17ms/step - categorical_accuracy: 0.9620 - loss: 0.0956 - val_categorical_accuracy: 1.0000 - val_loss: 0.0241\n",
            "Epoch 86/100\n",
            "\u001b[1m10/10\u001b[0m \u001b[32m━━━━━━━━━━━━━━━━━━━━\u001b[0m\u001b[37m\u001b[0m \u001b[1m0s\u001b[0m 10ms/step - categorical_accuracy: 0.9410 - loss: 0.1056 - val_categorical_accuracy: 1.0000 - val_loss: 0.0266\n",
            "Epoch 87/100\n",
            "\u001b[1m10/10\u001b[0m \u001b[32m━━━━━━━━━━━━━━━━━━━━\u001b[0m\u001b[37m\u001b[0m \u001b[1m0s\u001b[0m 9ms/step - categorical_accuracy: 0.9581 - loss: 0.1072 - val_categorical_accuracy: 1.0000 - val_loss: 0.0214\n",
            "Epoch 88/100\n",
            "\u001b[1m10/10\u001b[0m \u001b[32m━━━━━━━━━━━━━━━━━━━━\u001b[0m\u001b[37m\u001b[0m \u001b[1m0s\u001b[0m 9ms/step - categorical_accuracy: 0.9642 - loss: 0.0716 - val_categorical_accuracy: 1.0000 - val_loss: 0.0181\n",
            "Epoch 89/100\n",
            "\u001b[1m10/10\u001b[0m \u001b[32m━━━━━━━━━━━━━━━━━━━━\u001b[0m\u001b[37m\u001b[0m \u001b[1m0s\u001b[0m 11ms/step - categorical_accuracy: 0.9356 - loss: 0.1000 - val_categorical_accuracy: 1.0000 - val_loss: 0.0233\n",
            "Epoch 90/100\n",
            "\u001b[1m10/10\u001b[0m \u001b[32m━━━━━━━━━━━━━━━━━━━━\u001b[0m\u001b[37m\u001b[0m \u001b[1m0s\u001b[0m 9ms/step - categorical_accuracy: 0.9664 - loss: 0.0707 - val_categorical_accuracy: 1.0000 - val_loss: 0.0210\n",
            "Epoch 91/100\n",
            "\u001b[1m10/10\u001b[0m \u001b[32m━━━━━━━━━━━━━━━━━━━━\u001b[0m\u001b[37m\u001b[0m \u001b[1m0s\u001b[0m 9ms/step - categorical_accuracy: 0.9641 - loss: 0.0957 - val_categorical_accuracy: 1.0000 - val_loss: 0.0175\n",
            "Epoch 92/100\n",
            "\u001b[1m10/10\u001b[0m \u001b[32m━━━━━━━━━━━━━━━━━━━━\u001b[0m\u001b[37m\u001b[0m \u001b[1m0s\u001b[0m 9ms/step - categorical_accuracy: 0.9545 - loss: 0.0804 - val_categorical_accuracy: 1.0000 - val_loss: 0.0166\n",
            "Epoch 93/100\n",
            "\u001b[1m10/10\u001b[0m \u001b[32m━━━━━━━━━━━━━━━━━━━━\u001b[0m\u001b[37m\u001b[0m \u001b[1m0s\u001b[0m 10ms/step - categorical_accuracy: 0.9449 - loss: 0.0952 - val_categorical_accuracy: 1.0000 - val_loss: 0.0204\n",
            "Epoch 94/100\n",
            "\u001b[1m10/10\u001b[0m \u001b[32m━━━━━━━━━━━━━━━━━━━━\u001b[0m\u001b[37m\u001b[0m \u001b[1m0s\u001b[0m 10ms/step - categorical_accuracy: 0.9738 - loss: 0.0807 - val_categorical_accuracy: 1.0000 - val_loss: 0.0191\n",
            "Epoch 95/100\n",
            "\u001b[1m10/10\u001b[0m \u001b[32m━━━━━━━━━━━━━━━━━━━━\u001b[0m\u001b[37m\u001b[0m \u001b[1m0s\u001b[0m 9ms/step - categorical_accuracy: 0.9752 - loss: 0.0684 - val_categorical_accuracy: 1.0000 - val_loss: 0.0186\n",
            "Epoch 96/100\n",
            "\u001b[1m10/10\u001b[0m \u001b[32m━━━━━━━━━━━━━━━━━━━━\u001b[0m\u001b[37m\u001b[0m \u001b[1m0s\u001b[0m 9ms/step - categorical_accuracy: 0.9648 - loss: 0.0729 - val_categorical_accuracy: 1.0000 - val_loss: 0.0132\n",
            "Epoch 97/100\n",
            "\u001b[1m10/10\u001b[0m \u001b[32m━━━━━━━━━━━━━━━━━━━━\u001b[0m\u001b[37m\u001b[0m \u001b[1m0s\u001b[0m 11ms/step - categorical_accuracy: 0.9594 - loss: 0.0668 - val_categorical_accuracy: 1.0000 - val_loss: 0.0145\n",
            "Epoch 98/100\n",
            "\u001b[1m10/10\u001b[0m \u001b[32m━━━━━━━━━━━━━━━━━━━━\u001b[0m\u001b[37m\u001b[0m \u001b[1m0s\u001b[0m 9ms/step - categorical_accuracy: 0.9635 - loss: 0.0844 - val_categorical_accuracy: 1.0000 - val_loss: 0.0169\n",
            "Epoch 99/100\n",
            "\u001b[1m10/10\u001b[0m \u001b[32m━━━━━━━━━━━━━━━━━━━━\u001b[0m\u001b[37m\u001b[0m \u001b[1m0s\u001b[0m 10ms/step - categorical_accuracy: 0.9546 - loss: 0.0850 - val_categorical_accuracy: 1.0000 - val_loss: 0.0168\n",
            "Epoch 100/100\n",
            "\u001b[1m10/10\u001b[0m \u001b[32m━━━━━━━━━━━━━━━━━━━━\u001b[0m\u001b[37m\u001b[0m \u001b[1m0s\u001b[0m 10ms/step - categorical_accuracy: 0.9508 - loss: 0.1000 - val_categorical_accuracy: 1.0000 - val_loss: 0.0152\n"
          ]
        }
      ]
    },
    {
      "cell_type": "markdown",
      "metadata": {
        "id": "X3zWr9Vp2ZLE"
      },
      "source": [
        "**Rendimiento**"
      ]
    },
    {
      "cell_type": "markdown",
      "metadata": {
        "id": "ChGDlzMc4fQZ"
      },
      "source": [
        "**Evaluando el modelo**"
      ]
    },
    {
      "cell_type": "code",
      "metadata": {
        "colab": {
          "base_uri": "https://localhost:8080/"
        },
        "id": "2CUdtGOE4e3v",
        "outputId": "1d2d4d1a-adac-4d33-8fbd-cf5a98aba251"
      },
      "source": [
        "perdida, precision = model.evaluate(X_test,y_test)\n",
        "\n",
        "print(\"PERDIDA: \", perdida)\n",
        "print(\"PRESICIÓN: \", precision)"
      ],
      "execution_count": null,
      "outputs": [
        {
          "output_type": "stream",
          "name": "stdout",
          "text": [
            "\u001b[1m3/3\u001b[0m \u001b[32m━━━━━━━━━━━━━━━━━━━━\u001b[0m\u001b[37m\u001b[0m \u001b[1m0s\u001b[0m 159ms/step - categorical_accuracy: 0.9605 - loss: 0.0674\n",
            "PERDIDA:  0.08273681998252869\n",
            "PRESICIÓN:  0.9599999785423279\n"
          ]
        }
      ]
    },
    {
      "cell_type": "markdown",
      "metadata": {
        "id": "kiDUPmC35cM8"
      },
      "source": [
        "# **Creando una gráfica en el tiempo**"
      ]
    },
    {
      "cell_type": "code",
      "metadata": {
        "colab": {
          "base_uri": "https://localhost:8080/"
        },
        "id": "DYME7lRl5qGr",
        "outputId": "ab4b6e35-16bc-4499-d89d-23ebaad43364"
      },
      "source": [
        "historial_dict = history.history\n",
        "historial_dict.keys()"
      ],
      "execution_count": null,
      "outputs": [
        {
          "output_type": "execute_result",
          "data": {
            "text/plain": [
              "dict_keys(['categorical_accuracy', 'loss', 'val_categorical_accuracy', 'val_loss'])"
            ]
          },
          "metadata": {},
          "execution_count": 29
        }
      ]
    },
    {
      "cell_type": "code",
      "metadata": {
        "colab": {
          "base_uri": "https://localhost:8080/",
          "height": 472
        },
        "id": "VfTGkATE5xcY",
        "outputId": "4b6d7c83-498a-4087-d888-9caaf53fe607"
      },
      "source": [
        "acc = historial_dict['categorical_accuracy']\n",
        "val_acc = historial_dict['val_categorical_accuracy']\n",
        "perdida = historial_dict['loss']\n",
        "val_perdida = historial_dict['val_loss']\n",
        "\n",
        "epocas = range(1, len(acc) + 1)\n",
        "\n",
        "plt.plot(epocas, perdida, 'go', label='Perdida de entrenamiento')\n",
        "\n",
        "plt.plot(epocas, val_perdida, 'r', label='Perdida de validación')\n",
        "plt.title('Perdida de entrenamiento y validación')\n",
        "plt.xlabel('Epocas')\n",
        "plt.ylabel('Perdida')\n",
        "plt.legend()\n",
        "\n",
        "plt.show()"
      ],
      "execution_count": null,
      "outputs": [
        {
          "output_type": "display_data",
          "data": {
            "text/plain": [
              "<Figure size 640x480 with 1 Axes>"
            ],
            "image/png": "[encoded data removed]"
          },
          "metadata": {}
        }
      ]
    },
    {
      "cell_type": "code",
      "metadata": {
        "colab": {
          "base_uri": "https://localhost:8080/",
          "height": 472
        },
        "id": "2dcaOX3l8C5k",
        "outputId": "c5176866-44a9-4379-a1bd-0c3e6df41b3f"
      },
      "source": [
        "plt.plot(epocas, acc, 'bo', label='Precisión de entrenamiento')\n",
        "plt.plot(epocas, val_acc, 'b', label='Precisión de validación')\n",
        "plt.title('Precisión del entrenamiento y la validación')\n",
        "plt.xlabel('Epocas')\n",
        "plt.ylabel('Precisión')\n",
        "plt.legend(loc='lower right')\n",
        "\n",
        "plt.show()"
      ],
      "execution_count": null,
      "outputs": [
        {
          "output_type": "display_data",
          "data": {
            "text/plain": [
              "<Figure size 640x480 with 1 Axes>"
            ],
            "image/png": "[encoded data removed]"
          },
          "metadata": {}
        }
      ]
    },
    {
      "cell_type": "code",
      "source": [
        "entrada_texto = [\"door mirror shelf bottle bottle faucet bottle sink counter stool picture picture wall wall cabinet floor\"]\n",
        "entrada_texto = [\"refrigerator doorframe  \"]\n",
        "entrada_texto = [\"bed wall clutt clothes_box ceiling \"]\n",
        "entrada_texto = [\"wall wall door doorframe refrigerator\"]\n",
        "entrada_vectorizada = vectorize_layer(entrada_texto)\n",
        "prediccion = model.predict(entrada_vectorizada)\n",
        "prediccion"
      ],
      "metadata": {
        "colab": {
          "base_uri": "https://localhost:8080/"
        },
        "id": "6tOTiC-wFXuf",
        "outputId": "60395647-fe01-4451-a16d-312e09aa4cf3"
      },
      "execution_count": null,
      "outputs": [
        {
          "output_type": "stream",
          "name": "stdout",
          "text": [
            "\u001b[1m1/1\u001b[0m \u001b[32m━━━━━━━━━━━━━━━━━━━━\u001b[0m\u001b[37m\u001b[0m \u001b[1m0s\u001b[0m 282ms/step\n"
          ]
        },
        {
          "output_type": "execute_result",
          "data": {
            "text/plain": [
              "array([[4.9962901e-04, 2.6805636e-05, 9.9947363e-01]], dtype=float32)"
            ]
          },
          "metadata": {},
          "execution_count": 32
        }
      ]
    },
    {
      "cell_type": "markdown",
      "source": [],
      "metadata": {
        "id": "CtCyr8mAGBq_"
      }
    },
    {
      "cell_type": "code",
      "source": [
        "prediccion_clase = np.argmax(prediccion)\n",
        "# Mapear el índice numérico de vuelta a la etiqueta original\n",
        "etiquetas_originales = label_encoder.classes_  # Esto te da el mapeo de las clases codificadas\n",
        "etiqueta_predicha = etiquetas_originales[prediccion_clase]\n",
        "\n",
        "print(f\"La clase predicha es: {etiqueta_predicha}\")\n"
      ],
      "metadata": {
        "colab": {
          "base_uri": "https://localhost:8080/"
        },
        "id": "I52K2cxFFXhL",
        "outputId": "bfbc0216-1d7e-4dcb-8873-5e98b582fb64"
      },
      "execution_count": null,
      "outputs": [
        {
          "output_type": "stream",
          "name": "stdout",
          "text": [
            "La clase predicha es: kitchen\n"
          ]
        }
      ]
    }
  ]
}